{
 "metadata": {
  "name": "",
  "signature": "sha256:a7be36a4f4662959a91933efe1402f31048ef1f743f0d490e76f83e517e4ee04"
 },
 "nbformat": 3,
 "nbformat_minor": 0,
 "worksheets": [
  {
   "cells": [
    {
     "cell_type": "code",
     "collapsed": false,
     "input": [
      "import requests\n",
      "yun_ip = 'http://192.168.2.103'"
     ],
     "language": "python",
     "metadata": {},
     "outputs": [],
     "prompt_number": 33
    },
    {
     "cell_type": "code",
     "collapsed": false,
     "input": [
      "%%timeit\n",
      "r = requests.get(yun_ip + '/arduino/fullstatus')\n",
      "r.text"
     ],
     "language": "python",
     "metadata": {},
     "outputs": [
      {
       "output_type": "stream",
       "stream": "stdout",
       "text": [
        "1 loops, best of 3: 402 ms per loop\n"
       ]
      }
     ],
     "prompt_number": 35
    },
    {
     "cell_type": "code",
     "collapsed": false,
     "input": [
      "class YunMash(object):\n",
      "    \n",
      "    \n",
      "    def __init__(self, ip):\n",
      "        self.ip = '192.168.2.106'\n",
      "        \n",
      "        self._fullstatus()\n",
      "        \n",
      "    def _fullstatus(self):\n",
      "        r = requests.get(self._build_command_url('fullstatus'))\n",
      "        status_list = r.text.split(',')\n",
      "        \n",
      "        self.temperature = status_list[0]\n",
      "        self.duty_cycle = status_list[1]\n",
      "        self.setpoint = status_list[2]\n",
      "        self.pid_mode = status_list[3]\n",
      "        self.pump_on = status_list[4]\n",
      "        self.p_value = status_list[5]\n",
      "        self.i_value = status_list[6]\n",
      "                         \n",
      "    def _build_command_url(self, command):\n",
      "        return 'http://' + self.ip + '/arduino/' + command"
     ],
     "language": "python",
     "metadata": {},
     "outputs": [],
     "prompt_number": 17
    },
    {
     "cell_type": "code",
     "collapsed": false,
     "input": [
      "yun = YunMash(yun_ip)"
     ],
     "language": "python",
     "metadata": {},
     "outputs": [],
     "prompt_number": 18
    },
    {
     "cell_type": "code",
     "collapsed": false,
     "input": [
      "yun.temperature"
     ],
     "language": "python",
     "metadata": {},
     "outputs": [
      {
       "metadata": {},
       "output_type": "pyout",
       "prompt_number": 19,
       "text": [
        "u'40.40'"
       ]
      }
     ],
     "prompt_number": 19
    },
    {
     "cell_type": "code",
     "collapsed": false,
     "input": [],
     "language": "python",
     "metadata": {},
     "outputs": []
    }
   ],
   "metadata": {}
  }
 ]
}